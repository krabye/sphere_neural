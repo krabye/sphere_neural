{
 "cells": [
  {
   "cell_type": "code",
   "execution_count": 3,
   "metadata": {},
   "outputs": [
    {
     "name": "stderr",
     "output_type": "stream",
     "text": [
      "/home/sphere_4/anaconda2/lib/python2.7/site-packages/sklearn/cross_validation.py:41: DeprecationWarning: This module was deprecated in version 0.18 in favor of the model_selection module into which all the refactored classes and functions are moved. Also note that the interface of the new CV iterators are different from that of this module. This module will be removed in 0.20.\n",
      "  \"This module will be removed in 0.20.\", DeprecationWarning)\n"
     ]
    }
   ],
   "source": [
    "import torch\n",
    "from python_speech_features import mfcc, delta\n",
    "import scipy.io.wavfile as wav\n",
    "import numpy as np\n",
    "import cPickle as pickle\n",
    "from sklearn.cross_validation import train_test_split\n",
    "from collections import Counter\n",
    "from torch.autograd import Variable\n",
    "from torch.utils.data import DataLoader\n",
    "import xgboost\n",
    "from sklearn.metrics import accuracy_score, f1_score\n",
    "import lightgbm\n",
    "import sys\n",
    "from torch.optim.lr_scheduler import ReduceLROnPlateau\n",
    "import matplotlib.pyplot as plt\n",
    "from sklearn.linear_model import LogisticRegression\n",
    "%matplotlib inline"
   ]
  },
  {
   "cell_type": "markdown",
   "metadata": {},
   "source": [
    "### Preprocessing and feature extraction"
   ]
  },
  {
   "cell_type": "code",
   "execution_count": 270,
   "metadata": {
    "scrolled": true
   },
   "outputs": [
    {
     "name": "stdout",
     "output_type": "stream",
     "text": [
      "Processing good/train1/train1.wav\n",
      "Processing good/train2/train2.wav\n",
      "Processing good/train3/train3.wav\n",
      "Processing good/train4/train4.wav\n",
      "Processing good/train5/train5.wav\n"
     ]
    }
   ],
   "source": [
    "train = []\n",
    "for j in xrange(5):\n",
    "    print 'Processing', 'good/train'+str(j+1)+'/train'+str(j+1)+'.wav'\n",
    "    rate, sample = wav.read('good/train'+str(j+1)+'/train'+str(j+1)+'.wav')\n",
    "#     sample = sample + np.random.randint(-100, 100, size=len(sample))\n",
    "    tmp = []\n",
    "    for i in xrange(n_batches):\n",
    "        tmp.append(mfcc(sample[i*len(sample)/n_batches:(i+1)*len(sample)/n_batches], samplerate=rate))\n",
    "    mfcc_feat = np.vstack(tmp)\n",
    "    train.append(mfcc_feat)\n",
    "    \n",
    "    with open('train/train'+str(i+1)+'_mfcc_bin', 'w') as f:\n",
    "        pickle.dump(mfcc_feat, f)\n",
    "        f.close()"
   ]
  },
  {
   "cell_type": "code",
   "execution_count": 271,
   "metadata": {
    "collapsed": true
   },
   "outputs": [],
   "source": [
    "total_size = sum(train[i].shape[0] for i in xrange(5))"
   ]
  },
  {
   "cell_type": "code",
   "execution_count": 272,
   "metadata": {},
   "outputs": [
    {
     "data": {
      "text/plain": [
       "18803120"
      ]
     },
     "execution_count": 272,
     "metadata": {},
     "output_type": "execute_result"
    }
   ],
   "source": [
    "total_size"
   ]
  },
  {
   "cell_type": "code",
   "execution_count": 273,
   "metadata": {},
   "outputs": [
    {
     "name": "stdout",
     "output_type": "stream",
     "text": [
      "(744490, 13)\n",
      "(2356100, 13)\n",
      "(5062340, 13)\n",
      "(8658390, 13)\n",
      "(1981800, 13)\n"
     ]
    }
   ],
   "source": [
    "for x in train:\n",
    "    print x.shape"
   ]
  },
  {
   "cell_type": "code",
   "execution_count": 274,
   "metadata": {
    "collapsed": true
   },
   "outputs": [],
   "source": [
    "X_data = np.zeros((744490*5, 39))\n",
    "y_data = np.zeros(744490*5)"
   ]
  },
  {
   "cell_type": "markdown",
   "metadata": {},
   "source": [
    "Обеспечим баланс классов на трейне, взяв для каждого диктора одинаковое число семплов"
   ]
  },
  {
   "cell_type": "code",
   "execution_count": 275,
   "metadata": {
    "collapsed": true
   },
   "outputs": [],
   "source": [
    "k = 0\n",
    "for i, x in enumerate(train):\n",
    "    x = x[:744490]\n",
    "    d = delta(x, 2)\n",
    "    dd = delta(d, 2)\n",
    "    X_data[k:k+len(x)] = np.hstack([x, d, dd])\n",
    "    y_data[k:k+len(x)] = i\n",
    "    k += len(x)"
   ]
  },
  {
   "cell_type": "code",
   "execution_count": 317,
   "metadata": {
    "collapsed": true
   },
   "outputs": [],
   "source": [
    "# np.savez('good/train_dataset_bin', X_data=X_data, y_data=y_data)"
   ]
  },
  {
   "cell_type": "code",
   "execution_count": 4,
   "metadata": {},
   "outputs": [],
   "source": [
    "data = np.load('good/train_dataset_bin.npz')"
   ]
  },
  {
   "cell_type": "code",
   "execution_count": 5,
   "metadata": {},
   "outputs": [],
   "source": [
    "X_data = data['X_data']"
   ]
  },
  {
   "cell_type": "code",
   "execution_count": 6,
   "metadata": {
    "collapsed": true
   },
   "outputs": [],
   "source": [
    "y_data = data['y_data']"
   ]
  },
  {
   "cell_type": "code",
   "execution_count": 7,
   "metadata": {
    "collapsed": true
   },
   "outputs": [],
   "source": [
    "del data"
   ]
  },
  {
   "cell_type": "code",
   "execution_count": 7,
   "metadata": {},
   "outputs": [
    {
     "data": {
      "text/plain": [
       "Counter({0.0: 744490, 1.0: 744490, 2.0: 744490, 3.0: 744490, 4.0: 744490})"
      ]
     },
     "execution_count": 7,
     "metadata": {},
     "output_type": "execute_result"
    }
   ],
   "source": [
    "Counter(y_data)"
   ]
  },
  {
   "cell_type": "markdown",
   "metadata": {},
   "source": [
    "## Baseline with lightgbm"
   ]
  },
  {
   "cell_type": "code",
   "execution_count": 277,
   "metadata": {
    "collapsed": true
   },
   "outputs": [],
   "source": [
    "X_train, X_test, y_train, y_test = train_test_split(X_data, y_data, test_size=0.3)"
   ]
  },
  {
   "cell_type": "code",
   "execution_count": 278,
   "metadata": {},
   "outputs": [
    {
     "data": {
      "text/plain": [
       "Counter({0.0: 521155, 1.0: 520949, 2.0: 521432, 3.0: 520701, 4.0: 521478})"
      ]
     },
     "execution_count": 278,
     "metadata": {},
     "output_type": "execute_result"
    }
   ],
   "source": [
    "Counter(y_train)"
   ]
  },
  {
   "cell_type": "code",
   "execution_count": 279,
   "metadata": {
    "collapsed": true
   },
   "outputs": [],
   "source": [
    "lgb = lightgbm.LGBMClassifier(n_estimators=500, n_jobs=32, silent=False, max_depth=4)"
   ]
  },
  {
   "cell_type": "code",
   "execution_count": 280,
   "metadata": {},
   "outputs": [
    {
     "data": {
      "text/plain": [
       "LGBMClassifier(boosting_type='gbdt', colsample_bytree=1.0, learning_rate=0.1,\n",
       "        max_bin=255, max_depth=4, min_child_samples=20,\n",
       "        min_child_weight=0.001, min_split_gain=0.0, n_estimators=500,\n",
       "        n_jobs=32, num_leaves=31, objective=None, random_state=None,\n",
       "        reg_alpha=0.0, reg_lambda=0.0, silent=False, subsample=1.0,\n",
       "        subsample_for_bin=200000, subsample_freq=1)"
      ]
     },
     "execution_count": 280,
     "metadata": {},
     "output_type": "execute_result"
    }
   ],
   "source": [
    "lgb.fit(X_train, y_train)"
   ]
  },
  {
   "cell_type": "code",
   "execution_count": 298,
   "metadata": {
    "collapsed": true
   },
   "outputs": [],
   "source": [
    "pred = lgb.predict(X_test)"
   ]
  },
  {
   "cell_type": "code",
   "execution_count": 299,
   "metadata": {},
   "outputs": [
    {
     "data": {
      "text/plain": [
       "0.85452770800592803"
      ]
     },
     "execution_count": 299,
     "metadata": {},
     "output_type": "execute_result"
    }
   ],
   "source": [
    "accuracy_score(y_test, pred)"
   ]
  },
  {
   "cell_type": "code",
   "execution_count": 300,
   "metadata": {},
   "outputs": [
    {
     "data": {
      "text/plain": [
       "0.85401977367310589"
      ]
     },
     "execution_count": 300,
     "metadata": {},
     "output_type": "execute_result"
    }
   ],
   "source": [
    "f1_score(y_test, pred, average='weighted')"
   ]
  },
  {
   "cell_type": "markdown",
   "metadata": {},
   "source": [
    "### Test on books that not in train set "
   ]
  },
  {
   "cell_type": "code",
   "execution_count": 286,
   "metadata": {
    "scrolled": true
   },
   "outputs": [
    {
     "name": "stdout",
     "output_type": "stream",
     "text": [
      "Processing good/val1/train1.wav\n",
      "Processing good/val2/train2.wav\n",
      "Processing good/val3/train3.wav\n",
      "Processing good/val4/train4.wav\n",
      "Processing good/val5/train5.wav\n"
     ]
    }
   ],
   "source": [
    "test = [np.zeros(0)]*5\n",
    "for j in xrange(5):\n",
    "    print 'Processing', 'good/val'+str(j+1)+'/train'+str(j+1)+'.wav'\n",
    "    rate, sample = wav.read('good/val'+str(j+1)+'/train'+str(j+1)+'.wav')\n",
    "    tmp = []\n",
    "    for i in xrange(n_batches):\n",
    "        tmp.append(mfcc(sample[i*len(sample)/n_batches:(i+1)*len(sample)/n_batches], samplerate=rate))\n",
    "    mfcc_feat = np.vstack(tmp)\n",
    "    test[j] = mfcc_feat\n",
    "    \n",
    "#     with open('train/train'+str(i+1)+'_mfcc_bin', 'w') as f:\n",
    "#         pickle.dump(mfcc_feat, f)\n",
    "#         f.close()"
   ]
  },
  {
   "cell_type": "code",
   "execution_count": 287,
   "metadata": {
    "collapsed": true
   },
   "outputs": [],
   "source": [
    "total_size = sum(test[i].shape[0] for i in xrange(5))"
   ]
  },
  {
   "cell_type": "code",
   "execution_count": 288,
   "metadata": {},
   "outputs": [
    {
     "name": "stdout",
     "output_type": "stream",
     "text": [
      "(326810, 13)\n",
      "(2174940, 13)\n",
      "(3129180, 13)\n",
      "(6634410, 13)\n",
      "(8113340, 13)\n"
     ]
    }
   ],
   "source": [
    "for x in test:\n",
    "    print x.shape"
   ]
  },
  {
   "cell_type": "code",
   "execution_count": 289,
   "metadata": {},
   "outputs": [
    {
     "data": {
      "text/plain": [
       "20378680"
      ]
     },
     "execution_count": 289,
     "metadata": {},
     "output_type": "execute_result"
    }
   ],
   "source": [
    "total_size"
   ]
  },
  {
   "cell_type": "code",
   "execution_count": 290,
   "metadata": {},
   "outputs": [
    {
     "data": {
      "text/plain": [
       "array([[ -3.60436534e+01,   0.00000000e+00,  -3.20763172e-14, ...,\n",
       "         -3.27769755e-13,   0.00000000e+00,   3.59484803e-13],\n",
       "       [ -3.60436534e+01,   0.00000000e+00,  -3.20763172e-14, ...,\n",
       "         -3.27769755e-13,   0.00000000e+00,   3.59484803e-13],\n",
       "       [  1.06991813e+00,  -4.32328774e+01,  -1.42820491e+01, ...,\n",
       "         -7.96303956e+00,  -3.01999593e+00,  -1.03620563e+00],\n",
       "       ..., \n",
       "       [  1.06991813e+00,  -3.68103113e+01,  -1.01966264e+01, ...,\n",
       "         -2.93501126e+00,  -4.03316662e+00,  -4.97764955e+00],\n",
       "       [ -2.60967571e-02,  -3.67204120e+01,  -1.04430984e+01, ...,\n",
       "         -3.09882535e+00,  -3.06803336e+00,  -2.49297349e+00],\n",
       "       [ -2.60967571e-02,  -3.67204120e+01,  -1.04430984e+01, ...,\n",
       "         -3.09882535e+00,  -3.06803336e+00,  -2.49297349e+00]])"
      ]
     },
     "execution_count": 290,
     "metadata": {},
     "output_type": "execute_result"
    }
   ],
   "source": [
    "test[2]"
   ]
  },
  {
   "cell_type": "code",
   "execution_count": 291,
   "metadata": {
    "collapsed": true
   },
   "outputs": [],
   "source": [
    "X_data_test = np.zeros((total_size, 39))\n",
    "y_data_test = np.zeros(total_size)"
   ]
  },
  {
   "cell_type": "code",
   "execution_count": 292,
   "metadata": {
    "collapsed": true
   },
   "outputs": [],
   "source": [
    "k = 0\n",
    "for i, x in enumerate(test):\n",
    "    if len(x) > 0:\n",
    "        d = delta(x, 2)\n",
    "        dd = delta(d, 2)\n",
    "        X_data_test[k:k+len(x)] = np.hstack([x, d, dd])\n",
    "        y_data_test[k:k+len(x)] = i\n",
    "        k += len(x)"
   ]
  },
  {
   "cell_type": "code",
   "execution_count": 316,
   "metadata": {
    "collapsed": true
   },
   "outputs": [],
   "source": [
    "# np.savez('good/test_dataset_bin', X_data=X_data_test, y_data=y_data_test)"
   ]
  },
  {
   "cell_type": "code",
   "execution_count": 8,
   "metadata": {
    "collapsed": true
   },
   "outputs": [],
   "source": [
    "data = np.load('good/test_dataset_bin.npz')\n",
    "X_data_test = data['X_data']\n",
    "y_data_test = data['y_data']"
   ]
  },
  {
   "cell_type": "code",
   "execution_count": 9,
   "metadata": {
    "collapsed": true
   },
   "outputs": [],
   "source": [
    "del data"
   ]
  },
  {
   "cell_type": "code",
   "execution_count": 293,
   "metadata": {
    "collapsed": true
   },
   "outputs": [],
   "source": [
    "pred = lgb.predict(X_data_test)"
   ]
  },
  {
   "cell_type": "code",
   "execution_count": 294,
   "metadata": {},
   "outputs": [
    {
     "data": {
      "text/plain": [
       "Counter({0.0: 1325447, 1.0: 1947809, 2.0: 3684686, 3.0: 6686740, 4.0: 6733998})"
      ]
     },
     "execution_count": 294,
     "metadata": {},
     "output_type": "execute_result"
    }
   ],
   "source": [
    "Counter(pred)"
   ]
  },
  {
   "cell_type": "code",
   "execution_count": 297,
   "metadata": {
    "scrolled": true
   },
   "outputs": [
    {
     "data": {
      "text/plain": [
       "0.76338370801899957"
      ]
     },
     "execution_count": 297,
     "metadata": {},
     "output_type": "execute_result"
    }
   ],
   "source": [
    "f1_score(y_data_test, pred, average='weighted')"
   ]
  },
  {
   "cell_type": "code",
   "execution_count": 296,
   "metadata": {},
   "outputs": [
    {
     "data": {
      "text/plain": [
       "0.75022813057568005"
      ]
     },
     "execution_count": 296,
     "metadata": {},
     "output_type": "execute_result"
    }
   ],
   "source": [
    "accuracy_score(y_data_test, pred)"
   ]
  },
  {
   "cell_type": "markdown",
   "metadata": {},
   "source": [
    "### Making dataset for RNN"
   ]
  },
  {
   "cell_type": "markdown",
   "metadata": {},
   "source": [
    "Создадим датасет следующим образом: одним наблюдением будем считать 10к подряд идущих окон для определенного диктора (~4 мин). Возьмем по 500 наблюдений для каждого диктора."
   ]
  },
  {
   "cell_type": "code",
   "execution_count": 11,
   "metadata": {
    "collapsed": true
   },
   "outputs": [],
   "source": [
    "seq_len = 500"
   ]
  },
  {
   "cell_type": "code",
   "execution_count": 12,
   "metadata": {
    "collapsed": true
   },
   "outputs": [],
   "source": [
    "train_X_data_np = np.zeros((seq_len*5, 10000, 39), dtype=float)\n",
    "train_y_data_np = np.zeros((seq_len*5, 10000), dtype=float)"
   ]
  },
  {
   "cell_type": "code",
   "execution_count": 13,
   "metadata": {},
   "outputs": [],
   "source": [
    "k = 0\n",
    "for i in xrange(5):\n",
    "    x = X_data[y_data == i]\n",
    "    y = i\n",
    "    \n",
    "    indices = np.random.choice(xrange(len(x) - 10000), size=seq_len, replace=False)\n",
    "    for j in xrange(seq_len):\n",
    "        train_X_data_np[k] = x[indices[j]:indices[j] + 10000]\n",
    "        train_y_data_np[k] = y\n",
    "        k += 1"
   ]
  },
  {
   "cell_type": "code",
   "execution_count": 14,
   "metadata": {
    "collapsed": true
   },
   "outputs": [],
   "source": [
    "test_X_data_np = np.zeros((seq_len*5, 10000, 39), dtype=float)\n",
    "test_y_data_np = np.zeros((seq_len*5, 10000), dtype=float)"
   ]
  },
  {
   "cell_type": "code",
   "execution_count": 15,
   "metadata": {
    "collapsed": true
   },
   "outputs": [],
   "source": [
    "k = 0\n",
    "for i in xrange(5):\n",
    "    x = X_data_test[y_data_test == i]\n",
    "    y = i\n",
    "    \n",
    "    indices = np.random.choice(xrange(len(x) - 10000), size=seq_len, replace=False)\n",
    "    for j in xrange(seq_len):\n",
    "        test_X_data_np[k] = x[indices[j]:indices[j] + 10000]\n",
    "        test_y_data_np[k] = y\n",
    "        k += 1"
   ]
  },
  {
   "cell_type": "markdown",
   "metadata": {},
   "source": [
    "## Bidirectional LSTM"
   ]
  },
  {
   "cell_type": "code",
   "execution_count": 63,
   "metadata": {
    "collapsed": true
   },
   "outputs": [],
   "source": [
    "n_layers = 3\n",
    "h_size = 25\n",
    "inp_size = 39\n",
    "n_class = 5"
   ]
  },
  {
   "cell_type": "code",
   "execution_count": 64,
   "metadata": {},
   "outputs": [],
   "source": [
    "dtype = torch.FloatTensor\n",
    "losses = []\n",
    "tmp_loss = []\n",
    "test_loss = []\n",
    "lstm = torch.nn.LSTM(input_size=inp_size, hidden_size=h_size, num_layers=n_layers,\n",
    "                     bidirectional=True, batch_first=True).cuda()\n",
    "\n",
    "model = torch.nn.Sequential(torch.nn.ReLU(), torch.nn.Dropout(), torch.nn.Linear(2*h_size, n_class), torch.nn.Softmax()).cuda()\n",
    "\n",
    "loss_fn = torch.nn.NLLLoss().cuda()\n",
    "\n",
    "learning_rate = 0.0005\n",
    "optimizer = torch.optim.Adam(list(lstm.parameters())+list(model.parameters()), lr=learning_rate)\n",
    "\n",
    "train_data = torch.utils.data.TensorDataset(torch.from_numpy(train_X_data_np).type(dtype),\n",
    "                                            torch.from_numpy(train_y_data_np).type(torch.LongTensor))\n",
    "test_data = torch.utils.data.TensorDataset(torch.from_numpy(test_X_data_np).type(dtype),\n",
    "                                           torch.from_numpy(test_y_data_np).type(torch.LongTensor))\n",
    "\n",
    "train_loader = DataLoader(train_data, batch_size=10, shuffle=True, num_workers=31)\n",
    "test_loader = DataLoader(test_data, batch_size=10, shuffle=True, num_workers=31)\n",
    "\n",
    "scheduler = ReduceLROnPlateau(optimizer=optimizer, factor=0.95, min_lr=0.0001, patience=50)"
   ]
  },
  {
   "cell_type": "code",
   "execution_count": 73,
   "metadata": {},
   "outputs": [],
   "source": [
    "optimizer.param_groups[0]['lr'] = 0.0001"
   ]
  },
  {
   "cell_type": "code",
   "execution_count": null,
   "metadata": {},
   "outputs": [
    {
     "name": "stdout",
     "output_type": "stream",
     "text": [
      "Epoch 2, Itteration 70, train loss = -0.786568820477, test loss = -0.601949930191 ,f1_score = 0.666010777071 ,lr: 0.0001\t\t\t\t"
     ]
    }
   ],
   "source": [
    "for epoch in range(5):\n",
    "    for i, (x, y) in enumerate(train_loader):\n",
    "\n",
    "        x = x.cuda()\n",
    "        y = y.cuda()\n",
    "        x = Variable(x)\n",
    "        y = Variable(y)\n",
    "        y_pred, _ = lstm(x)\n",
    "\n",
    "        y_pred = model(y_pred[:,-1])\n",
    "        y = y[:,-1]\n",
    "\n",
    "        loss = loss_fn(y_pred, y)\n",
    "        tmp_loss.append(loss.data[0])\n",
    "        \n",
    "#         scheduler.step(loss.data[0])\n",
    "\n",
    "        optimizer.zero_grad()\n",
    "\n",
    "        loss.backward()\n",
    "        \n",
    "        optimizer.step()\n",
    "        \n",
    "        if i%5 == 0:\n",
    "            losses.append(np.mean(tmp_loss))\n",
    "            tmp_loss = []\n",
    "            f1_scores = []\n",
    "            y1 = []\n",
    "            y2 = []\n",
    "            for j, (x_t, y_t) in enumerate(test_loader):\n",
    "                \n",
    "                x_t = x_t.cuda()\n",
    "                y_t = y_t.cuda()\n",
    "                x_t = Variable(x_t)\n",
    "                y_t = Variable(y_t)\n",
    "                y_pred, _ = lstm(x_t)\n",
    "\n",
    "                y_pred = model(y_pred[:,-1])\n",
    "                y_t = y_t[:,-1]\n",
    "                y1.append(y_t.data.cpu().numpy())\n",
    "                y2.append(np.argmax(y_pred.data.cpu().numpy(), axis=1))\n",
    "                \n",
    "                loss = loss_fn(y_pred, y_t)\n",
    "                test_loss.append(loss.data[0])\n",
    "                if j > 5:\n",
    "                    break\n",
    "                    \n",
    "            sys.stdout.write(\"\\rEpoch \"+str(epoch)+\", Itteration \"+str(i)+\", train loss = \"+str(losses[-1])+\n",
    "                             \", test loss = \"+str(test_loss[-1])+\" ,f1_score = \"\n",
    "                             +str(f1_score(np.hstack(y1), np.hstack(y2), average='weighted'))+\n",
    "                             \" ,lr: \"+str(optimizer.param_groups[0]['lr'])+'\\t\\t\\t')"
   ]
  },
  {
   "cell_type": "code",
   "execution_count": 75,
   "metadata": {},
   "outputs": [
    {
     "data": {
      "text/plain": [
       "0.0001"
      ]
     },
     "execution_count": 75,
     "metadata": {},
     "output_type": "execute_result"
    }
   ],
   "source": [
    "optimizer.param_groups[0]['lr']"
   ]
  },
  {
   "cell_type": "code",
   "execution_count": 76,
   "metadata": {},
   "outputs": [
    {
     "data": {
      "text/plain": [
       "-0.78328535556793211"
      ]
     },
     "execution_count": 76,
     "metadata": {},
     "output_type": "execute_result"
    }
   ],
   "source": [
    "losses[-1]"
   ]
  },
  {
   "cell_type": "code",
   "execution_count": 77,
   "metadata": {},
   "outputs": [
    {
     "data": {
      "text/plain": [
       "-0.9026975631713867"
      ]
     },
     "execution_count": 77,
     "metadata": {},
     "output_type": "execute_result"
    }
   ],
   "source": [
    "test_loss[-1]"
   ]
  },
  {
   "cell_type": "code",
   "execution_count": 78,
   "metadata": {},
   "outputs": [
    {
     "data": {
      "text/plain": [
       "[<matplotlib.lines.Line2D at 0x7f439b7cd4d0>]"
      ]
     },
     "execution_count": 78,
     "metadata": {},
     "output_type": "execute_result"
    },
    {
     "data": {
      "image/png": "[encoded data removed]",
      "text/plain": [
       "<matplotlib.figure.Figure at 0x7f439b87bc50>"
      ]
     },
     "metadata": {},
     "output_type": "display_data"
    }
   ],
   "source": [
    "plt.plot(losses)"
   ]
  },
  {
   "cell_type": "code",
   "execution_count": 110,
   "metadata": {},
   "outputs": [
    {
     "data": {
      "text/plain": [
       "[<matplotlib.lines.Line2D at 0x7f439b2fd050>]"
      ]
     },
     "execution_count": 110,
     "metadata": {},
     "output_type": "execute_result"
    },
    {
     "data": {
      "image/png": "[encoded data removed]",
      "text/plain": [
       "<matplotlib.figure.Figure at 0x7f439b357750>"
      ]
     },
     "metadata": {},
     "output_type": "display_data"
    }
   ],
   "source": [
    "plt.plot(test_loss[:-100:5])"
   ]
  },
  {
   "cell_type": "code",
   "execution_count": 82,
   "metadata": {
    "collapsed": true
   },
   "outputs": [],
   "source": [
    "torch.save(model, 'trained_clf3_3')\n",
    "torch.save(lstm, 'trained_lstm3_3')"
   ]
  },
  {
   "cell_type": "code",
   "execution_count": 83,
   "metadata": {
    "collapsed": true
   },
   "outputs": [],
   "source": [
    "model = torch.load('trained_clf3_3')\n",
    "lstm = torch.load('trained_lstm3_3')"
   ]
  },
  {
   "cell_type": "code",
   "execution_count": 84,
   "metadata": {},
   "outputs": [
    {
     "name": "stderr",
     "output_type": "stream",
     "text": [
      "/home/sphere_4/anaconda2/lib/python2.7/site-packages/ipykernel_launcher.py:9: UserWarning: RNN module weights are not part of single contiguous chunk of memory. This means they need to be compacted at every call, possibly greately increasing memory usage. To compact weights again call flatten_parameters().\n",
      "  if __name__ == '__main__':\n"
     ]
    }
   ],
   "source": [
    "y1 = []\n",
    "y2 = []\n",
    "for j, (x_t, y_t) in enumerate(test_loader):\n",
    "\n",
    "    x_t = x_t.cuda()\n",
    "    y_t = y_t.cuda()\n",
    "    x_t = Variable(x_t)\n",
    "    y_t = Variable(y_t)\n",
    "    y_pred, _ = lstm(x_t)\n",
    "\n",
    "    y_pred = model(y_pred[:,-1])\n",
    "    y_t = y_t[:,-1]\n",
    "    y1.append(y_t.data.cpu().numpy())\n",
    "    y2.append(np.argmax(y_pred.data.cpu().numpy(), axis=1))\n",
    "\n",
    "    loss = loss_fn(y_pred, y_t)"
   ]
  },
  {
   "cell_type": "code",
   "execution_count": 85,
   "metadata": {},
   "outputs": [
    {
     "data": {
      "text/plain": [
       "0.83622295773508071"
      ]
     },
     "execution_count": 85,
     "metadata": {},
     "output_type": "execute_result"
    }
   ],
   "source": [
    "f1_score(np.hstack(y1), np.hstack(y2), average='weighted')"
   ]
  },
  {
   "cell_type": "markdown",
   "metadata": {},
   "source": [
    "### Trying transfer learning"
   ]
  },
  {
   "cell_type": "code",
   "execution_count": 92,
   "metadata": {
    "collapsed": true
   },
   "outputs": [],
   "source": [
    "model = torch.nn.Sequential(torch.nn.ReLU(), torch.nn.Dropout(), torch.nn.Linear(2*h_size, n_class), torch.nn.Softmax()).cuda()\n",
    "loss_fn = torch.nn.NLLLoss().cuda()\n",
    "\n",
    "learning_rate = 0.0005\n",
    "optimizer = torch.optim.Adam(model.parameters(), lr=learning_rate)"
   ]
  },
  {
   "cell_type": "code",
   "execution_count": 93,
   "metadata": {
    "collapsed": true
   },
   "outputs": [],
   "source": [
    "losses1 = []\n",
    "test_loss1 = []"
   ]
  },
  {
   "cell_type": "code",
   "execution_count": 94,
   "metadata": {
    "collapsed": true
   },
   "outputs": [],
   "source": [
    "lstm.flatten_parameters()"
   ]
  },
  {
   "cell_type": "code",
   "execution_count": 98,
   "metadata": {
    "collapsed": true
   },
   "outputs": [],
   "source": [
    "optimizer.param_groups[0]['lr'] = 0.0001"
   ]
  },
  {
   "cell_type": "code",
   "execution_count": null,
   "metadata": {
    "scrolled": true
   },
   "outputs": [
    {
     "name": "stdout",
     "output_type": "stream",
     "text": [
      "Epoch 2, Itteration 5, train loss = -0.900715017319, test loss = -0.68762165308 ,f1_score = 0.803090854543 ,lr: 0.0001\t\t\t\t\t\t"
     ]
    }
   ],
   "source": [
    "for epoch in range(5):\n",
    "    for i, (x, y) in enumerate(train_loader):\n",
    "\n",
    "        x = x.cuda()\n",
    "        y = y.cuda()\n",
    "        x = Variable(x)\n",
    "        y = Variable(y)\n",
    "        y_pred, _ = lstm(x)\n",
    "\n",
    "        y_pred = model(y_pred[:,-1])\n",
    "        y = y[:,-1]\n",
    "\n",
    "        loss = loss_fn(y_pred, y)\n",
    "        tmp_loss.append(loss.data[0])\n",
    "        \n",
    "#         scheduler.step(loss.data[0])\n",
    "\n",
    "        optimizer.zero_grad()\n",
    "\n",
    "        loss.backward()\n",
    "        \n",
    "        optimizer.step()\n",
    "        \n",
    "        if i%5 == 0:\n",
    "            losses1.append(np.mean(tmp_loss))\n",
    "            tmp_loss = []\n",
    "            f1_scores = []\n",
    "            y1 = []\n",
    "            y2 = []\n",
    "            for j, (x_t, y_t) in enumerate(test_loader):\n",
    "                \n",
    "                x_t = x_t.cuda()\n",
    "                y_t = y_t.cuda()\n",
    "                x_t = Variable(x_t)\n",
    "                y_t = Variable(y_t)\n",
    "                y_pred, _ = lstm(x_t)\n",
    "\n",
    "                y_pred = model(y_pred[:,-1])\n",
    "                y_t = y_t[:,-1]\n",
    "                y1.append(y_t.data.cpu().numpy())\n",
    "                y2.append(np.argmax(y_pred.data.cpu().numpy(), axis=1))\n",
    "                \n",
    "                loss = loss_fn(y_pred, y_t)\n",
    "                test_loss1.append(loss.data[0])\n",
    "                if j > 5:\n",
    "                    break\n",
    "                    \n",
    "            sys.stdout.write(\"\\rEpoch \"+str(epoch)+\", Itteration \"+str(i)+\", train loss = \"+str(losses1[-1])+\n",
    "                             \", test loss = \"+str(test_loss1[-1])+\" ,f1_score = \"\n",
    "                             +str(f1_score(np.hstack(y1), np.hstack(y2), average='weighted'))+\n",
    "                             \" ,lr: \"+str(optimizer.param_groups[0]['lr'])+'\\t\\t\\t')"
   ]
  },
  {
   "cell_type": "code",
   "execution_count": 100,
   "metadata": {
    "scrolled": true
   },
   "outputs": [
    {
     "data": {
      "text/plain": [
       "[<matplotlib.lines.Line2D at 0x7f439b597690>]"
      ]
     },
     "execution_count": 100,
     "metadata": {},
     "output_type": "execute_result"
    },
    {
     "data": {
      "image/png": "[encoded data removed]",
      "text/plain": [
       "<matplotlib.figure.Figure at 0x7f439b6a3250>"
      ]
     },
     "metadata": {},
     "output_type": "display_data"
    }
   ],
   "source": [
    "plt.plot(losses1)"
   ]
  },
  {
   "cell_type": "code",
   "execution_count": 106,
   "metadata": {},
   "outputs": [
    {
     "data": {
      "text/plain": [
       "[<matplotlib.lines.Line2D at 0x7f439b48fb90>]"
      ]
     },
     "execution_count": 106,
     "metadata": {},
     "output_type": "execute_result"
    },
    {
     "data": {
      "image/png": "[encoded data removed]",
      "text/plain": [
       "<matplotlib.figure.Figure at 0x7f439b5569d0>"
      ]
     },
     "metadata": {},
     "output_type": "display_data"
    }
   ],
   "source": [
    "plt.plot(test_loss1[::5])"
   ]
  },
  {
   "cell_type": "code",
   "execution_count": 102,
   "metadata": {},
   "outputs": [],
   "source": [
    "y1 = []\n",
    "y2 = []\n",
    "for j, (x_t, y_t) in enumerate(test_loader):\n",
    "\n",
    "    x_t = x_t.cuda()\n",
    "    y_t = y_t.cuda()\n",
    "    x_t = Variable(x_t)\n",
    "    y_t = Variable(y_t)\n",
    "    y_pred, _ = lstm(x_t)\n",
    "\n",
    "    y_pred = model(y_pred[:,-1])\n",
    "    y_t = y_t[:,-1]\n",
    "    y1.append(y_t.data.cpu().numpy())\n",
    "    y2.append(np.argmax(y_pred.data.cpu().numpy(), axis=1))\n",
    "\n",
    "    loss = loss_fn(y_pred, y_t)"
   ]
  },
  {
   "cell_type": "code",
   "execution_count": 103,
   "metadata": {
    "scrolled": false
   },
   "outputs": [
    {
     "data": {
      "text/plain": [
       "0.84443346669694219"
      ]
     },
     "execution_count": 103,
     "metadata": {},
     "output_type": "execute_result"
    }
   ],
   "source": [
    "f1_score(np.hstack(y1), np.hstack(y2), average='weighted')"
   ]
  },
  {
   "cell_type": "code",
   "execution_count": 105,
   "metadata": {
    "collapsed": true
   },
   "outputs": [],
   "source": [
    "torch.save(model, 'trained_clf4_3')"
   ]
  },
  {
   "cell_type": "markdown",
   "metadata": {},
   "source": [
    "Получили еще +1% к качеству."
   ]
  },
  {
   "cell_type": "markdown",
   "metadata": {},
   "source": [
    "### Try train LSTM with dropout"
   ]
  },
  {
   "cell_type": "code",
   "execution_count": 118,
   "metadata": {
    "collapsed": true
   },
   "outputs": [],
   "source": [
    "dtype = torch.FloatTensor\n",
    "losses2 = []\n",
    "tmp_loss = []\n",
    "test_loss2 = []\n",
    "lstm = torch.nn.LSTM(input_size=inp_size, hidden_size=h_size, num_layers=n_layers,\n",
    "                     bidirectional=True, batch_first=True, dropout=True).cuda()\n",
    "\n",
    "model = torch.nn.Sequential(torch.nn.ReLU(), torch.nn.Dropout(), torch.nn.Linear(2*h_size, n_class), torch.nn.Softmax()).cuda()\n",
    "\n",
    "loss_fn = torch.nn.NLLLoss().cuda()\n",
    "\n",
    "learning_rate = 0.05\n",
    "optimizer = torch.optim.Adam(list(lstm.parameters())+list(model.parameters()), lr=learning_rate)"
   ]
  },
  {
   "cell_type": "code",
   "execution_count": 119,
   "metadata": {
    "scrolled": true
   },
   "outputs": [
    {
     "name": "stdout",
     "output_type": "stream",
     "text": [
      "Epoch 4, Itteration 245, train loss = -0.193217757344, test loss = -0.252383127809 ,f1_score = 0.162328042328 ,lr: 0.05\t\t\t\t"
     ]
    }
   ],
   "source": [
    "for epoch in range(5):\n",
    "    for i, (x, y) in enumerate(train_loader):\n",
    "\n",
    "        x = x.cuda()\n",
    "        y = y.cuda()\n",
    "        x = Variable(x)\n",
    "        y = Variable(y)\n",
    "        y_pred, _ = lstm(x)\n",
    "\n",
    "        y_pred = model(y_pred[:,-1])\n",
    "        y = y[:,-1]\n",
    "\n",
    "        loss = loss_fn(y_pred, y)\n",
    "        tmp_loss.append(loss.data[0])\n",
    "        \n",
    "#         scheduler.step(loss.data[0])\n",
    "\n",
    "        optimizer.zero_grad()\n",
    "\n",
    "        loss.backward()\n",
    "        \n",
    "        optimizer.step()\n",
    "        \n",
    "        if i%5 == 0:\n",
    "            losses2.append(np.mean(tmp_loss))\n",
    "            tmp_loss = []\n",
    "            f1_scores = []\n",
    "            y1 = []\n",
    "            y2 = []\n",
    "            for j, (x_t, y_t) in enumerate(test_loader):\n",
    "                \n",
    "                x_t = x_t.cuda()\n",
    "                y_t = y_t.cuda()\n",
    "                x_t = Variable(x_t)\n",
    "                y_t = Variable(y_t)\n",
    "                y_pred, _ = lstm(x_t)\n",
    "\n",
    "                y_pred = model(y_pred[:,-1])\n",
    "                y_t = y_t[:,-1]\n",
    "                y1.append(y_t.data.cpu().numpy())\n",
    "                y2.append(np.argmax(y_pred.data.cpu().numpy(), axis=1))\n",
    "                \n",
    "                loss = loss_fn(y_pred, y_t)\n",
    "                tmp_loss.append(loss.data[0])\n",
    "                if j > 5:\n",
    "                    test_loss2.append(np.mean(tmp_loss))\n",
    "                    tmp_loss = []\n",
    "                    break\n",
    "                    \n",
    "            sys.stdout.write(\"\\rEpoch \"+str(epoch)+\", Itteration \"+str(i)+\", train loss = \"+str(losses2[-1])+\n",
    "                             \", test loss = \"+str(test_loss2[-1])+\" ,f1_score = \"\n",
    "                             +str(f1_score(np.hstack(y1), np.hstack(y2), average='weighted'))+\n",
    "                             \" ,lr: \"+str(optimizer.param_groups[0]['lr'])+'\\t\\t\\t')"
   ]
  },
  {
   "cell_type": "markdown",
   "metadata": {},
   "source": [
    "Сходимости к сожалению не удалось добиться даже при довольно больших темпах обучения."
   ]
  },
  {
   "cell_type": "markdown",
   "metadata": {},
   "source": [
    "### Try GRU"
   ]
  },
  {
   "cell_type": "code",
   "execution_count": 120,
   "metadata": {
    "collapsed": true
   },
   "outputs": [],
   "source": [
    "n_layers = 3\n",
    "h_size = 25\n",
    "inp_size = 39\n",
    "n_class = 5"
   ]
  },
  {
   "cell_type": "code",
   "execution_count": 125,
   "metadata": {
    "collapsed": true
   },
   "outputs": [],
   "source": [
    "dtype = torch.FloatTensor\n",
    "losses3 = []\n",
    "tmp_loss = []\n",
    "test_loss3 = []\n",
    "lstm = torch.nn.GRU(input_size=inp_size, hidden_size=h_size, num_layers=n_layers,\n",
    "                     bidirectional=True, batch_first=True).cuda()\n",
    "\n",
    "model = torch.nn.Sequential(torch.nn.ReLU(), torch.nn.Dropout(), torch.nn.Linear(2*h_size, n_class), torch.nn.Softmax()).cuda()\n",
    "\n",
    "loss_fn = torch.nn.NLLLoss().cuda()\n",
    "\n",
    "learning_rate = 0.001\n",
    "optimizer = torch.optim.Adam(list(lstm.parameters())+list(model.parameters()), lr=learning_rate)"
   ]
  },
  {
   "cell_type": "code",
   "execution_count": 126,
   "metadata": {
    "scrolled": false
   },
   "outputs": [
    {
     "name": "stdout",
     "output_type": "stream",
     "text": [
      "Epoch 4, Itteration 245, train loss = -0.983264756203, test loss = -0.810945681163 ,f1_score = 0.787527472527 ,lr: 0.001\t\t\t"
     ]
    }
   ],
   "source": [
    "for epoch in range(5):\n",
    "    for i, (x, y) in enumerate(train_loader):\n",
    "\n",
    "        x = x.cuda()\n",
    "        y = y.cuda()\n",
    "        x = Variable(x)\n",
    "        y = Variable(y)\n",
    "        y_pred, _ = lstm(x)\n",
    "\n",
    "        y_pred = model(y_pred[:,-1])\n",
    "        y = y[:,-1]\n",
    "\n",
    "        loss = loss_fn(y_pred, y)\n",
    "        tmp_loss.append(loss.data[0])\n",
    "\n",
    "        optimizer.zero_grad()\n",
    "\n",
    "        loss.backward()\n",
    "        \n",
    "        optimizer.step()\n",
    "        \n",
    "        if i%5 == 0:\n",
    "            losses3.append(np.mean(tmp_loss))\n",
    "            tmp_loss = []\n",
    "            f1_scores = []\n",
    "            y1 = []\n",
    "            y2 = []\n",
    "            for j, (x_t, y_t) in enumerate(test_loader):\n",
    "                \n",
    "                x_t = x_t.cuda()\n",
    "                y_t = y_t.cuda()\n",
    "                x_t = Variable(x_t)\n",
    "                y_t = Variable(y_t)\n",
    "                y_pred, _ = lstm(x_t)\n",
    "\n",
    "                y_pred = model(y_pred[:,-1])\n",
    "                y_t = y_t[:,-1]\n",
    "                y1.append(y_t.data.cpu().numpy())\n",
    "                y2.append(np.argmax(y_pred.data.cpu().numpy(), axis=1))\n",
    "                \n",
    "                loss = loss_fn(y_pred, y_t)\n",
    "                tmp_loss.append(loss.data[0])\n",
    "                if j > 5:\n",
    "                    test_loss3.append(np.mean(tmp_loss))\n",
    "                    tmp_loss = []\n",
    "                    break\n",
    "                    \n",
    "            sys.stdout.write(\"\\rEpoch \"+str(epoch)+\", Itteration \"+str(i)+\", train loss = \"+str(losses3[-1])+\n",
    "                             \", test loss = \"+str(test_loss3[-1])+\" ,f1_score = \"\n",
    "                             +str(f1_score(np.hstack(y1), np.hstack(y2), average='weighted'))+\n",
    "                             \" ,lr: \"+str(optimizer.param_groups[0]['lr'])+'\\t\\t\\t')"
   ]
  },
  {
   "cell_type": "code",
   "execution_count": 127,
   "metadata": {
    "scrolled": false
   },
   "outputs": [
    {
     "data": {
      "text/plain": [
       "[<matplotlib.lines.Line2D at 0x7f439b1ddc10>]"
      ]
     },
     "execution_count": 127,
     "metadata": {},
     "output_type": "execute_result"
    },
    {
     "data": {
      "image/png": "[encoded data removed]",
      "text/plain": [
       "<matplotlib.figure.Figure at 0x7f439b7d6b50>"
      ]
     },
     "metadata": {},
     "output_type": "display_data"
    }
   ],
   "source": [
    "plt.plot(losses3)"
   ]
  },
  {
   "cell_type": "code",
   "execution_count": 128,
   "metadata": {
    "scrolled": false
   },
   "outputs": [
    {
     "data": {
      "text/plain": [
       "[<matplotlib.lines.Line2D at 0x7f439b1b6bd0>]"
      ]
     },
     "execution_count": 128,
     "metadata": {},
     "output_type": "execute_result"
    },
    {
     "data": {
      "image/png": "[encoded data removed]",
      "text/plain": [
       "<matplotlib.figure.Figure at 0x7f439b73ec90>"
      ]
     },
     "metadata": {},
     "output_type": "display_data"
    }
   ],
   "source": [
    "plt.plot(test_loss3)"
   ]
  },
  {
   "cell_type": "code",
   "execution_count": 129,
   "metadata": {
    "collapsed": true
   },
   "outputs": [],
   "source": [
    "y1 = []\n",
    "y2 = []\n",
    "for j, (x_t, y_t) in enumerate(test_loader):\n",
    "\n",
    "    x_t = x_t.cuda()\n",
    "    y_t = y_t.cuda()\n",
    "    x_t = Variable(x_t)\n",
    "    y_t = Variable(y_t)\n",
    "    y_pred, _ = lstm(x_t)\n",
    "\n",
    "    y_pred = model(y_pred[:,-1])\n",
    "    y_t = y_t[:,-1]\n",
    "    y1.append(y_t.data.cpu().numpy())\n",
    "    y2.append(np.argmax(y_pred.data.cpu().numpy(), axis=1))\n",
    "\n",
    "    loss = loss_fn(y_pred, y_t)"
   ]
  },
  {
   "cell_type": "code",
   "execution_count": 130,
   "metadata": {
    "scrolled": false
   },
   "outputs": [
    {
     "data": {
      "text/plain": [
       "0.75087564554026054"
      ]
     },
     "execution_count": 130,
     "metadata": {},
     "output_type": "execute_result"
    }
   ],
   "source": [
    "f1_score(np.hstack(y1), np.hstack(y2), average='weighted')"
   ]
  },
  {
   "cell_type": "code",
   "execution_count": 141,
   "metadata": {},
   "outputs": [
    {
     "data": {
      "text/plain": [
       "<matplotlib.legend.Legend at 0x7f439adebc90>"
      ]
     },
     "execution_count": 141,
     "metadata": {},
     "output_type": "execute_result"
    },
    {
     "data": {
      "image/png": "[encoded data removed]",
      "text/plain": [
       "<matplotlib.figure.Figure at 0x7f439ae0ef50>"
      ]
     },
     "metadata": {},
     "output_type": "display_data"
    }
   ],
   "source": [
    "plt.plot(losses1[:250], c='r', label='BLSTM + TL')\n",
    "plt.plot(losses4, c='b', label='BGRU + TL')\n",
    "plt.legend()"
   ]
  },
  {
   "cell_type": "markdown",
   "metadata": {},
   "source": [
    "### Transfer  learning for GRU"
   ]
  },
  {
   "cell_type": "code",
   "execution_count": 131,
   "metadata": {
    "collapsed": true
   },
   "outputs": [],
   "source": [
    "losses4 = []\n",
    "tmp_loss = []\n",
    "test_loss4 = []\n",
    "model = torch.nn.Sequential(torch.nn.ReLU(), torch.nn.Dropout(), torch.nn.Linear(2*h_size, n_class), torch.nn.Softmax()).cuda()\n",
    "loss_fn = torch.nn.NLLLoss().cuda()\n",
    "\n",
    "learning_rate = 0.0005\n",
    "optimizer = torch.optim.Adam(model.parameters(), lr=learning_rate)"
   ]
  },
  {
   "cell_type": "code",
   "execution_count": null,
   "metadata": {
    "scrolled": true
   },
   "outputs": [
    {
     "name": "stdout",
     "output_type": "stream",
     "text": [
      "Epoch 3, Itteration 50, train loss = -0.903518331051, test loss = -0.736119372504 ,f1_score = 0.791833230708 ,lr: 0.0005\t\t\t\t"
     ]
    }
   ],
   "source": [
    "for epoch in range(5):\n",
    "    for i, (x, y) in enumerate(train_loader):\n",
    "\n",
    "        x = x.cuda()\n",
    "        y = y.cuda()\n",
    "        x = Variable(x)\n",
    "        y = Variable(y)\n",
    "        y_pred, _ = lstm(x)\n",
    "\n",
    "        y_pred = model(y_pred[:,-1])\n",
    "        y = y[:,-1]\n",
    "\n",
    "        loss = loss_fn(y_pred, y)\n",
    "        tmp_loss.append(loss.data[0])\n",
    "\n",
    "        optimizer.zero_grad()\n",
    "\n",
    "        loss.backward()\n",
    "        \n",
    "        optimizer.step()\n",
    "        \n",
    "        if i%5 == 0:\n",
    "            losses4.append(np.mean(tmp_loss))\n",
    "            tmp_loss = []\n",
    "            f1_scores = []\n",
    "            y1 = []\n",
    "            y2 = []\n",
    "            for j, (x_t, y_t) in enumerate(test_loader):\n",
    "                \n",
    "                x_t = x_t.cuda()\n",
    "                y_t = y_t.cuda()\n",
    "                x_t = Variable(x_t)\n",
    "                y_t = Variable(y_t)\n",
    "                y_pred, _ = lstm(x_t)\n",
    "\n",
    "                y_pred = model(y_pred[:,-1])\n",
    "                y_t = y_t[:,-1]\n",
    "                y1.append(y_t.data.cpu().numpy())\n",
    "                y2.append(np.argmax(y_pred.data.cpu().numpy(), axis=1))\n",
    "                \n",
    "                loss = loss_fn(y_pred, y_t)\n",
    "                tmp_loss.append(loss.data[0])\n",
    "                if j > 5:\n",
    "                    test_loss4.append(np.mean(tmp_loss))\n",
    "                    tmp_loss = []\n",
    "                    break\n",
    "                    \n",
    "            sys.stdout.write(\"\\rEpoch \"+str(epoch)+\", Itteration \"+str(i)+\", train loss = \"+str(losses4[-1])+\n",
    "                             \", test loss = \"+str(test_loss4[-1])+\" ,f1_score = \"\n",
    "                             +str(f1_score(np.hstack(y1), np.hstack(y2), average='weighted'))+\n",
    "                             \" ,lr: \"+str(optimizer.param_groups[0]['lr'])+'\\t\\t\\t')"
   ]
  },
  {
   "cell_type": "code",
   "execution_count": 133,
   "metadata": {
    "scrolled": true
   },
   "outputs": [
    {
     "data": {
      "text/plain": [
       "[<matplotlib.lines.Line2D at 0x7f439b142850>]"
      ]
     },
     "execution_count": 133,
     "metadata": {},
     "output_type": "execute_result"
    },
    {
     "data": {
      "image/png": "[encoded data removed]",
      "text/plain": [
       "<matplotlib.figure.Figure at 0x7f439b183e90>"
      ]
     },
     "metadata": {},
     "output_type": "display_data"
    }
   ],
   "source": [
    "plt.plot(losses4)"
   ]
  },
  {
   "cell_type": "code",
   "execution_count": 134,
   "metadata": {
    "scrolled": false
   },
   "outputs": [
    {
     "data": {
      "text/plain": [
       "[<matplotlib.lines.Line2D at 0x7f439b0b9910>]"
      ]
     },
     "execution_count": 134,
     "metadata": {},
     "output_type": "execute_result"
    },
    {
     "data": {
      "image/png": "[encoded data removed]",
      "text/plain": [
       "<matplotlib.figure.Figure at 0x7f439b202790>"
      ]
     },
     "metadata": {},
     "output_type": "display_data"
    }
   ],
   "source": [
    "plt.plot(test_loss4)"
   ]
  },
  {
   "cell_type": "code",
   "execution_count": 135,
   "metadata": {
    "collapsed": true
   },
   "outputs": [],
   "source": [
    "y1 = []\n",
    "y2 = []\n",
    "for j, (x_t, y_t) in enumerate(test_loader):\n",
    "\n",
    "    x_t = x_t.cuda()\n",
    "    y_t = y_t.cuda()\n",
    "    x_t = Variable(x_t)\n",
    "    y_t = Variable(y_t)\n",
    "    y_pred, _ = lstm(x_t)\n",
    "\n",
    "    y_pred = model(y_pred[:,-1])\n",
    "    y_t = y_t[:,-1]\n",
    "    y1.append(y_t.data.cpu().numpy())\n",
    "    y2.append(np.argmax(y_pred.data.cpu().numpy(), axis=1))\n",
    "\n",
    "    loss = loss_fn(y_pred, y_t)"
   ]
  },
  {
   "cell_type": "code",
   "execution_count": 136,
   "metadata": {
    "scrolled": false
   },
   "outputs": [
    {
     "data": {
      "text/plain": [
       "0.74779447995105508"
      ]
     },
     "execution_count": 136,
     "metadata": {},
     "output_type": "execute_result"
    }
   ],
   "source": [
    "f1_score(np.hstack(y1), np.hstack(y2), average='weighted')"
   ]
  },
  {
   "cell_type": "markdown",
   "metadata": {},
   "source": [
    ":("
   ]
  },
  {
   "cell_type": "code",
   "execution_count": null,
   "metadata": {
    "collapsed": true
   },
   "outputs": [],
   "source": []
  },
  {
   "cell_type": "code",
   "execution_count": null,
   "metadata": {
    "collapsed": true
   },
   "outputs": [],
   "source": []
  },
  {
   "cell_type": "code",
   "execution_count": null,
   "metadata": {
    "collapsed": true
   },
   "outputs": [],
   "source": []
  }
 ],
 "metadata": {
  "kernelspec": {
   "display_name": "Python 2",
   "language": "python",
   "name": "python2"
  },
  "language_info": {
   "codemirror_mode": {
    "name": "ipython",
    "version": 2
   },
   "file_extension": ".py",
   "mimetype": "text/x-python",
   "name": "python",
   "nbconvert_exporter": "python",
   "pygments_lexer": "ipython2",
   "version": "2.7.14"
  }
 },
 "nbformat": 4,
 "nbformat_minor": 2
}
